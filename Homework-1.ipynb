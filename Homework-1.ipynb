{
 "cells": [
  {
   "cell_type": "markdown",
   "id": "12cb88fe-4795-48a7-80d5-6e384284071f",
   "metadata": {},
   "source": [
    "# Week 1 homework"
   ]
  },
  {
   "cell_type": "markdown",
   "id": "f5957c16-733c-4919-a2b2-a76e68ccbecb",
   "metadata": {},
   "source": [
    "---\n",
    "### Q1 - Version of pandas"
   ]
  },
  {
   "cell_type": "code",
   "execution_count": 1,
   "id": "1a3fb8ee",
   "metadata": {},
   "outputs": [
    {
     "data": {
      "text/plain": [
       "'2.0.3'"
      ]
     },
     "execution_count": 1,
     "metadata": {},
     "output_type": "execute_result"
    }
   ],
   "source": [
    "import pandas as pd\n",
    "pd.__version__"
   ]
  },
  {
   "cell_type": "code",
   "execution_count": 4,
   "id": "f3a7478b",
   "metadata": {},
   "outputs": [],
   "source": [
    "data=pd.read_csv('housing.csv')"
   ]
  },
  {
   "cell_type": "markdown",
   "id": "a62d22b8-363c-4fc2-9156-e1e7aad9e7a7",
   "metadata": {},
   "source": [
    "---\n",
    "### Q2 - Number of columns in the dataset"
   ]
  },
  {
   "cell_type": "code",
   "execution_count": 8,
   "id": "1023e049-07de-47fe-89ef-863dfe9615f8",
   "metadata": {},
   "outputs": [
    {
     "data": {
      "text/plain": [
       "10"
      ]
     },
     "execution_count": 8,
     "metadata": {},
     "output_type": "execute_result"
    }
   ],
   "source": [
    "data.shape[1]"
   ]
  },
  {
   "cell_type": "markdown",
   "id": "0b523bf5-7e0f-4d82-a58f-f967c3bf2908",
   "metadata": {},
   "source": [
    "---\n",
    "### Q3 - Find columns with missing data "
   ]
  },
  {
   "cell_type": "code",
   "execution_count": 15,
   "id": "444761d4-6b69-4dee-9097-2097a41a988e",
   "metadata": {},
   "outputs": [
    {
     "data": {
      "text/plain": [
       "Index(['total_bedrooms'], dtype='object')"
      ]
     },
     "execution_count": 15,
     "metadata": {},
     "output_type": "execute_result"
    }
   ],
   "source": [
    "data.columns[data.isnull().any()]"
   ]
  },
  {
   "cell_type": "markdown",
   "id": "c8369e80-8760-4a0d-a74f-e209e8ea1e80",
   "metadata": {},
   "source": [
    "---\n",
    "### Q4 - Find number of unique values in the 'ocean_proximity' column"
   ]
  },
  {
   "cell_type": "code",
   "execution_count": 6,
   "id": "fb3b3c2b-2515-49c8-9b6a-9abb6a0cab0b",
   "metadata": {},
   "outputs": [
    {
     "data": {
      "text/plain": [
       "5"
      ]
     },
     "execution_count": 6,
     "metadata": {},
     "output_type": "execute_result"
    }
   ],
   "source": [
    "data['ocean_proximity'].nunique()"
   ]
  },
  {
   "cell_type": "markdown",
   "id": "13d53af4-efb5-4e70-b8d2-6e9644d06ed5",
   "metadata": {},
   "source": [
    "---\n",
    "### Q5 - Find average value of the 'median_house_value' for the houses near the bay"
   ]
  },
  {
   "cell_type": "code",
   "execution_count": 9,
   "id": "90cc30bd-ff04-493a-a061-54c58ea1acf4",
   "metadata": {},
   "outputs": [
    {
     "data": {
      "text/plain": [
       "259212.31179039303"
      ]
     },
     "execution_count": 9,
     "metadata": {},
     "output_type": "execute_result"
    }
   ],
   "source": [
    "data[data['ocean_proximity']=='NEAR BAY']['median_house_value'].mean()"
   ]
  },
  {
   "cell_type": "markdown",
   "id": "16aa5b5c-c5bc-41c8-b3bd-c10eada2df7e",
   "metadata": {},
   "source": [
    "---\n",
    "### Q6 - Find if the mean value changed after filling missing values"
   ]
  },
  {
   "cell_type": "code",
   "execution_count": 10,
   "id": "91ab30f6-9051-4d6e-a12d-149752316077",
   "metadata": {},
   "outputs": [
    {
     "data": {
      "text/plain": [
       "537.8705525375618"
      ]
     },
     "execution_count": 10,
     "metadata": {},
     "output_type": "execute_result"
    }
   ],
   "source": [
    "data['total_bedrooms'].mean()"
   ]
  },
  {
   "cell_type": "code",
   "execution_count": 14,
   "id": "39604527-fa2d-426d-accc-f81b356f8289",
   "metadata": {},
   "outputs": [
    {
     "data": {
      "text/plain": [
       "537.870546996124"
      ]
     },
     "execution_count": 14,
     "metadata": {},
     "output_type": "execute_result"
    }
   ],
   "source": [
    "data['total_bedrooms'].fillna(537.870).mean()"
   ]
  },
  {
   "cell_type": "markdown",
   "id": "1f8e28a2-4dfa-44d3-8e26-8b48eea8f842",
   "metadata": {},
   "source": [
    "---\n",
    "### Q7 - Find the Value of the last element of w "
   ]
  },
  {
   "cell_type": "code",
   "execution_count": 34,
   "id": "7b4c6d6b-703b-436c-a831-c04075e9bed4",
   "metadata": {},
   "outputs": [
    {
     "data": {
      "text/plain": [
       "array([[9.6820000e+03, 3.5105300e+05, 9.1357000e+04],\n",
       "       [3.5105300e+05, 1.4399307e+07, 3.7720360e+06],\n",
       "       [9.1357000e+04, 3.7720360e+06, 9.9835800e+05]])"
      ]
     },
     "execution_count": 34,
     "metadata": {},
     "output_type": "execute_result"
    }
   ],
   "source": [
    "#X=data[data['ocean_proximity']=='ISLAND'][['housing_median_age', 'total_rooms', 'total_bedrooms']].reset_index(drop=True).to_numpy()\n",
    "X=data[data['ocean_proximity']=='ISLAND'][['housing_median_age', 'total_rooms', 'total_bedrooms']].values\n",
    "x_trans=X.T\n",
    "XTX=x_trans.dot(X)\n",
    "XTX"
   ]
  },
  {
   "cell_type": "code",
   "execution_count": 43,
   "id": "cfeef321-48d6-4802-b5a7-1f4fb43a3d9a",
   "metadata": {},
   "outputs": [
    {
     "data": {
      "text/plain": [
       "array([ 950, 1300,  800, 1000, 1300])"
      ]
     },
     "execution_count": 43,
     "metadata": {},
     "output_type": "execute_result"
    }
   ],
   "source": [
    "import numpy as np\n",
    "y=np.array([950, 1300, 800, 1000, 1300])\n",
    "y"
   ]
  },
  {
   "cell_type": "code",
   "execution_count": 47,
   "id": "d8c68980-1d93-466e-a40a-c50bcaa8a1ae",
   "metadata": {},
   "outputs": [],
   "source": [
    "w_inc=np.linalg.inv(XTX).dot(x_trans)\n",
    "w=w_inc.dot(y)"
   ]
  },
  {
   "cell_type": "code",
   "execution_count": 48,
   "id": "515629db-8b72-4204-b5f6-4cdd5ee63015",
   "metadata": {},
   "outputs": [
    {
     "data": {
      "text/plain": [
       "5.6992294550655656"
      ]
     },
     "execution_count": 48,
     "metadata": {},
     "output_type": "execute_result"
    }
   ],
   "source": [
    "w[-1]"
   ]
  },
  {
   "cell_type": "code",
   "execution_count": null,
   "id": "6aac05f2-5e72-4dc5-992a-be224c30c336",
   "metadata": {},
   "outputs": [],
   "source": []
  }
 ],
 "metadata": {
  "kernelspec": {
   "display_name": "Python 3 (ipykernel)",
   "language": "python",
   "name": "python3"
  },
  "language_info": {
   "codemirror_mode": {
    "name": "ipython",
    "version": 3
   },
   "file_extension": ".py",
   "mimetype": "text/x-python",
   "name": "python",
   "nbconvert_exporter": "python",
   "pygments_lexer": "ipython3",
   "version": "3.10.9"
  }
 },
 "nbformat": 4,
 "nbformat_minor": 5
}
